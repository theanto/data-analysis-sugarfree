{
 "cells": [
  {
   "cell_type": "markdown",
   "metadata": {},
   "source": [
    "### Lunch the script for create a result.jpg (in DatiCGM/output folder) that contain all result for each users in a dataset with 3 methods (Arima, Random Forest and SVM) in a PWS from 3-36h with PH from 15 to 60min.\n"
   ]
  },
  {
   "cell_type": "code",
   "execution_count": null,
   "metadata": {
    "scrolled": false
   },
   "outputs": [
    {
     "name": "stdout",
     "output_type": "stream",
     "text": [
      "C:\\Users\\anto-\\Desktop\\12-Month-Forecast-With-LSTM-master\\Arima with slide window\\Dati CGM\n",
      "CGM00001 01_V0\n",
      "--- 31014.410772800446 Seconds for computation ---\n",
      "--- 4056.1618814468384 Seconds for computation ---\n",
      "--- 247.81218218803406 Seconds for computation ---\n",
      "CGM00001 01_V1\n"
     ]
    }
   ],
   "source": [
    "%run -i \"diabetesCGM.py\""
   ]
  }
 ],
 "metadata": {
  "kernelspec": {
   "display_name": "Python 3",
   "language": "python",
   "name": "python3"
  },
  "language_info": {
   "codemirror_mode": {
    "name": "ipython",
    "version": 3
   },
   "file_extension": ".py",
   "mimetype": "text/x-python",
   "name": "python",
   "nbconvert_exporter": "python",
   "pygments_lexer": "ipython3",
   "version": "3.7.4"
  }
 },
 "nbformat": 4,
 "nbformat_minor": 2
}
