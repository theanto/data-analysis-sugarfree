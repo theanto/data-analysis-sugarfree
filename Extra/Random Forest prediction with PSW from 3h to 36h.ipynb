{
 "cells": [
  {
   "cell_type": "code",
   "execution_count": 1,
   "metadata": {},
   "outputs": [],
   "source": [
    "from functions import *\n",
    "\n",
    "import warnings\n",
    "warnings.filterwarnings('ignore')"
   ]
  },
  {
   "cell_type": "markdown",
   "metadata": {},
   "source": [
    "### Import a Dataset"
   ]
  },
  {
   "cell_type": "code",
   "execution_count": 2,
   "metadata": {},
   "outputs": [],
   "source": [
    "## load dataset require input dataset and string user\n",
    "data= loaddataset('dataset.csv', 'Z8RsBpxhnkebK5fvahVCmfV7icO2')"
   ]
  },
  {
   "cell_type": "code",
   "execution_count": 3,
   "metadata": {},
   "outputs": [],
   "source": [
    "data = preprocess(data,1)"
   ]
  },
  {
   "cell_type": "markdown",
   "metadata": {},
   "source": [
    "### The final dataset will be: "
   ]
  },
  {
   "cell_type": "code",
   "execution_count": 4,
   "metadata": {},
   "outputs": [
    {
     "data": {
      "text/html": [
       "<div>\n",
       "<style scoped>\n",
       "    .dataframe tbody tr th:only-of-type {\n",
       "        vertical-align: middle;\n",
       "    }\n",
       "\n",
       "    .dataframe tbody tr th {\n",
       "        vertical-align: top;\n",
       "    }\n",
       "\n",
       "    .dataframe thead th {\n",
       "        text-align: right;\n",
       "    }\n",
       "</style>\n",
       "<table border=\"1\" class=\"dataframe\">\n",
       "  <thead>\n",
       "    <tr style=\"text-align: right;\">\n",
       "      <th></th>\n",
       "      <th>valueHR</th>\n",
       "      <th>valuesteps</th>\n",
       "      <th>WkHR</th>\n",
       "      <th>WkCal</th>\n",
       "      <th>WkSteps</th>\n",
       "      <th>sec</th>\n",
       "      <th>sugarValue</th>\n",
       "      <th>cal</th>\n",
       "      <th>carbs</th>\n",
       "      <th>fat</th>\n",
       "      <th>fiber</th>\n",
       "      <th>protein</th>\n",
       "      <th>sodium</th>\n",
       "    </tr>\n",
       "  </thead>\n",
       "  <tbody>\n",
       "    <tr>\n",
       "      <td>823</td>\n",
       "      <td>77</td>\n",
       "      <td>0</td>\n",
       "      <td>0</td>\n",
       "      <td>0</td>\n",
       "      <td>0</td>\n",
       "      <td>0</td>\n",
       "      <td>90</td>\n",
       "      <td>0</td>\n",
       "      <td>0</td>\n",
       "      <td>0</td>\n",
       "      <td>0</td>\n",
       "      <td>0</td>\n",
       "      <td>0</td>\n",
       "    </tr>\n",
       "    <tr>\n",
       "      <td>824</td>\n",
       "      <td>75</td>\n",
       "      <td>49</td>\n",
       "      <td>0</td>\n",
       "      <td>0</td>\n",
       "      <td>0</td>\n",
       "      <td>0</td>\n",
       "      <td>90</td>\n",
       "      <td>0</td>\n",
       "      <td>0</td>\n",
       "      <td>0</td>\n",
       "      <td>0</td>\n",
       "      <td>0</td>\n",
       "      <td>0</td>\n",
       "    </tr>\n",
       "    <tr>\n",
       "      <td>825</td>\n",
       "      <td>73</td>\n",
       "      <td>71</td>\n",
       "      <td>0</td>\n",
       "      <td>0</td>\n",
       "      <td>0</td>\n",
       "      <td>0</td>\n",
       "      <td>86</td>\n",
       "      <td>0</td>\n",
       "      <td>0</td>\n",
       "      <td>0</td>\n",
       "      <td>0</td>\n",
       "      <td>0</td>\n",
       "      <td>0</td>\n",
       "    </tr>\n",
       "    <tr>\n",
       "      <td>826</td>\n",
       "      <td>89</td>\n",
       "      <td>650</td>\n",
       "      <td>0</td>\n",
       "      <td>0</td>\n",
       "      <td>0</td>\n",
       "      <td>0</td>\n",
       "      <td>82</td>\n",
       "      <td>0</td>\n",
       "      <td>0</td>\n",
       "      <td>0</td>\n",
       "      <td>0</td>\n",
       "      <td>0</td>\n",
       "      <td>0</td>\n",
       "    </tr>\n",
       "    <tr>\n",
       "      <td>827</td>\n",
       "      <td>97</td>\n",
       "      <td>393</td>\n",
       "      <td>0</td>\n",
       "      <td>0</td>\n",
       "      <td>0</td>\n",
       "      <td>0</td>\n",
       "      <td>79</td>\n",
       "      <td>0</td>\n",
       "      <td>0</td>\n",
       "      <td>0</td>\n",
       "      <td>0</td>\n",
       "      <td>0</td>\n",
       "      <td>0</td>\n",
       "    </tr>\n",
       "  </tbody>\n",
       "</table>\n",
       "</div>"
      ],
      "text/plain": [
       "     valueHR  valuesteps  WkHR  WkCal  WkSteps  sec  sugarValue  cal  carbs  \\\n",
       "823       77           0     0      0        0    0          90    0      0   \n",
       "824       75          49     0      0        0    0          90    0      0   \n",
       "825       73          71     0      0        0    0          86    0      0   \n",
       "826       89         650     0      0        0    0          82    0      0   \n",
       "827       97         393     0      0        0    0          79    0      0   \n",
       "\n",
       "     fat  fiber  protein  sodium  \n",
       "823    0      0        0       0  \n",
       "824    0      0        0       0  \n",
       "825    0      0        0       0  \n",
       "826    0      0        0       0  \n",
       "827    0      0        0       0  "
      ]
     },
     "execution_count": 4,
     "metadata": {},
     "output_type": "execute_result"
    }
   ],
   "source": [
    "data.head()"
   ]
  },
  {
   "cell_type": "markdown",
   "metadata": {},
   "source": [
    "### Let’s create our model. We are trying to predict a patient diabetes value. This coincides with the ‘sugarValue’ column, which will be our independent variable. We’ll use all the other columns as features for our model."
   ]
  },
  {
   "cell_type": "code",
   "execution_count": 5,
   "metadata": {},
   "outputs": [],
   "source": [
    "X = data.drop('sugarValue', axis=1)\n",
    "y = data['sugarValue']"
   ]
  },
  {
   "cell_type": "markdown",
   "metadata": {},
   "source": [
    "### We’ll use train-test-split to split the data into training data and testing data, and create a random forest model.\n"
   ]
  },
  {
   "cell_type": "markdown",
   "metadata": {},
   "source": [
    "## Create a windows, compute the predictions and calculate the MAE and RMSE for each window. Save the values in a dataset. \n"
   ]
  },
  {
   "cell_type": "code",
   "execution_count": 6,
   "metadata": {},
   "outputs": [
    {
     "name": "stdout",
     "output_type": "stream",
     "text": [
      "--- 3099.71205163002 Seconds for computation ---\n"
     ]
    }
   ],
   "source": [
    "window = prediction(data,2, X, y)"
   ]
  },
  {
   "cell_type": "markdown",
   "metadata": {},
   "source": [
    "### The dataset will show :\n",
    "\n",
    "#### - Current train (the current window values) \n",
    "#### - Current test (the predicted values)\n",
    "#### - MSE the average of the forecast error values\n",
    "#### - RMSE (root mean square error)\n",
    "#### - Predictive horizons (PHs) for each window."
   ]
  },
  {
   "cell_type": "code",
   "execution_count": 7,
   "metadata": {},
   "outputs": [
    {
     "data": {
      "text/html": [
       "<div>\n",
       "<style scoped>\n",
       "    .dataframe tbody tr th:only-of-type {\n",
       "        vertical-align: middle;\n",
       "    }\n",
       "\n",
       "    .dataframe tbody tr th {\n",
       "        vertical-align: top;\n",
       "    }\n",
       "\n",
       "    .dataframe thead th {\n",
       "        text-align: right;\n",
       "    }\n",
       "</style>\n",
       "<table border=\"1\" class=\"dataframe\">\n",
       "  <thead>\n",
       "    <tr style=\"text-align: right;\">\n",
       "      <th></th>\n",
       "      <th>Current train</th>\n",
       "      <th>Current test</th>\n",
       "      <th>MSE</th>\n",
       "      <th>RMSE</th>\n",
       "      <th>Interval</th>\n",
       "    </tr>\n",
       "  </thead>\n",
       "  <tbody>\n",
       "    <tr>\n",
       "      <td>0</td>\n",
       "      <td>From: 823 to: 838</td>\n",
       "      <td>From: 839 to: 839</td>\n",
       "      <td>16.00</td>\n",
       "      <td>4.000000</td>\n",
       "      <td>15Min 3PSW</td>\n",
       "    </tr>\n",
       "    <tr>\n",
       "      <td>1</td>\n",
       "      <td>From: 824 to: 839</td>\n",
       "      <td>From: 840 to: 840</td>\n",
       "      <td>49.00</td>\n",
       "      <td>7.000000</td>\n",
       "      <td>15Min 3PSW</td>\n",
       "    </tr>\n",
       "    <tr>\n",
       "      <td>2</td>\n",
       "      <td>From: 825 to: 840</td>\n",
       "      <td>From: 841 to: 841</td>\n",
       "      <td>9.00</td>\n",
       "      <td>3.000000</td>\n",
       "      <td>15Min 3PSW</td>\n",
       "    </tr>\n",
       "    <tr>\n",
       "      <td>3</td>\n",
       "      <td>From: 826 to: 841</td>\n",
       "      <td>From: 842 to: 842</td>\n",
       "      <td>1.00</td>\n",
       "      <td>1.000000</td>\n",
       "      <td>15Min 3PSW</td>\n",
       "    </tr>\n",
       "    <tr>\n",
       "      <td>4</td>\n",
       "      <td>From: 827 to: 842</td>\n",
       "      <td>From: 843 to: 843</td>\n",
       "      <td>1.00</td>\n",
       "      <td>1.000000</td>\n",
       "      <td>15Min 3PSW</td>\n",
       "    </tr>\n",
       "    <tr>\n",
       "      <td>...</td>\n",
       "      <td>...</td>\n",
       "      <td>...</td>\n",
       "      <td>...</td>\n",
       "      <td>...</td>\n",
       "      <td>...</td>\n",
       "    </tr>\n",
       "    <tr>\n",
       "      <td>22809</td>\n",
       "      <td>From: 1946 to: 2090</td>\n",
       "      <td>From: 2091 to: 2094</td>\n",
       "      <td>116.50</td>\n",
       "      <td>10.793517</td>\n",
       "      <td>60Min 36PSW</td>\n",
       "    </tr>\n",
       "    <tr>\n",
       "      <td>22810</td>\n",
       "      <td>From: 1947 to: 2091</td>\n",
       "      <td>From: 2092 to: 2095</td>\n",
       "      <td>29.50</td>\n",
       "      <td>5.431390</td>\n",
       "      <td>60Min 36PSW</td>\n",
       "    </tr>\n",
       "    <tr>\n",
       "      <td>22811</td>\n",
       "      <td>From: 1948 to: 2092</td>\n",
       "      <td>From: 2093 to: 2096</td>\n",
       "      <td>70.75</td>\n",
       "      <td>8.411302</td>\n",
       "      <td>60Min 36PSW</td>\n",
       "    </tr>\n",
       "    <tr>\n",
       "      <td>22812</td>\n",
       "      <td>From: 1949 to: 2093</td>\n",
       "      <td>From: 2094 to: 2097</td>\n",
       "      <td>101.25</td>\n",
       "      <td>10.062306</td>\n",
       "      <td>60Min 36PSW</td>\n",
       "    </tr>\n",
       "    <tr>\n",
       "      <td>22813</td>\n",
       "      <td>From: 1950 to: 2094</td>\n",
       "      <td>From: 2095 to: 2098</td>\n",
       "      <td>68.50</td>\n",
       "      <td>8.276473</td>\n",
       "      <td>60Min 36PSW</td>\n",
       "    </tr>\n",
       "  </tbody>\n",
       "</table>\n",
       "<p>22814 rows × 5 columns</p>\n",
       "</div>"
      ],
      "text/plain": [
       "             Current train         Current test     MSE       RMSE  \\\n",
       "0        From: 823 to: 838    From: 839 to: 839   16.00   4.000000   \n",
       "1        From: 824 to: 839    From: 840 to: 840   49.00   7.000000   \n",
       "2        From: 825 to: 840    From: 841 to: 841    9.00   3.000000   \n",
       "3        From: 826 to: 841    From: 842 to: 842    1.00   1.000000   \n",
       "4        From: 827 to: 842    From: 843 to: 843    1.00   1.000000   \n",
       "...                    ...                  ...     ...        ...   \n",
       "22809  From: 1946 to: 2090  From: 2091 to: 2094  116.50  10.793517   \n",
       "22810  From: 1947 to: 2091  From: 2092 to: 2095   29.50   5.431390   \n",
       "22811  From: 1948 to: 2092  From: 2093 to: 2096   70.75   8.411302   \n",
       "22812  From: 1949 to: 2093  From: 2094 to: 2097  101.25  10.062306   \n",
       "22813  From: 1950 to: 2094  From: 2095 to: 2098   68.50   8.276473   \n",
       "\n",
       "          Interval  \n",
       "0       15Min 3PSW  \n",
       "1       15Min 3PSW  \n",
       "2       15Min 3PSW  \n",
       "3       15Min 3PSW  \n",
       "4       15Min 3PSW  \n",
       "...            ...  \n",
       "22809  60Min 36PSW  \n",
       "22810  60Min 36PSW  \n",
       "22811  60Min 36PSW  \n",
       "22812  60Min 36PSW  \n",
       "22813  60Min 36PSW  \n",
       "\n",
       "[22814 rows x 5 columns]"
      ]
     },
     "execution_count": 7,
     "metadata": {},
     "output_type": "execute_result"
    }
   ],
   "source": [
    "window"
   ]
  },
  {
   "cell_type": "markdown",
   "metadata": {},
   "source": [
    "## Plot the all RMSE in a boxplot, from 3h window to 36h window.\n"
   ]
  },
  {
   "cell_type": "code",
   "execution_count": 8,
   "metadata": {},
   "outputs": [
    {
     "data": {
      "image/png": "[encoded data removed]",
      "text/plain": [
       "<Figure size 2160x720 with 1 Axes>"
      ]
     },
     "metadata": {
      "needs_background": "light"
     },
     "output_type": "display_data"
    }
   ],
   "source": [
    "boxplot(window)"
   ]
  },
  {
   "cell_type": "code",
   "execution_count": 78,
   "metadata": {},
   "outputs": [],
   "source": [
    "\n"
   ]
  },
  {
   "cell_type": "code",
   "execution_count": 79,
   "metadata": {},
   "outputs": [],
   "source": []
  }
 ],
 "metadata": {
  "kernelspec": {
   "display_name": "Python 3",
   "language": "python",
   "name": "python3"
  },
  "language_info": {
   "codemirror_mode": {
    "name": "ipython",
    "version": 3
   },
   "file_extension": ".py",
   "mimetype": "text/x-python",
   "name": "python",
   "nbconvert_exporter": "python",
   "pygments_lexer": "ipython3",
   "version": "3.7.4"
  }
 },
 "nbformat": 4,
 "nbformat_minor": 2
}
