{
 "cells": [
  {
   "cell_type": "code",
   "execution_count": 1,
   "metadata": {},
   "outputs": [],
   "source": [
    "from functions import *\n",
    "\n",
    "\n",
    "import warnings\n",
    "warnings.filterwarnings('ignore')"
   ]
  },
  {
   "cell_type": "markdown",
   "metadata": {},
   "source": [
    "### Import a Dataset"
   ]
  },
  {
   "cell_type": "code",
   "execution_count": 2,
   "metadata": {},
   "outputs": [],
   "source": [
    "data= loaddataset('dataset.csv', 'Z8RsBpxhnkebK5fvahVCmfV7icO2')"
   ]
  },
  {
   "cell_type": "code",
   "execution_count": 3,
   "metadata": {
    "scrolled": true
   },
   "outputs": [
    {
     "data": {
      "text/html": [
       "<div>\n",
       "<style scoped>\n",
       "    .dataframe tbody tr th:only-of-type {\n",
       "        vertical-align: middle;\n",
       "    }\n",
       "\n",
       "    .dataframe tbody tr th {\n",
       "        vertical-align: top;\n",
       "    }\n",
       "\n",
       "    .dataframe thead th {\n",
       "        text-align: right;\n",
       "    }\n",
       "</style>\n",
       "<table border=\"1\" class=\"dataframe\">\n",
       "  <thead>\n",
       "    <tr style=\"text-align: right;\">\n",
       "      <th></th>\n",
       "      <th>uid</th>\n",
       "      <th>time</th>\n",
       "      <th>valueHR</th>\n",
       "      <th>valuesteps</th>\n",
       "      <th>WkHR</th>\n",
       "      <th>WkCal</th>\n",
       "      <th>WkSteps</th>\n",
       "      <th>sec</th>\n",
       "      <th>sugarValue</th>\n",
       "      <th>cal</th>\n",
       "      <th>carbs</th>\n",
       "      <th>fat</th>\n",
       "      <th>fiber</th>\n",
       "      <th>protein</th>\n",
       "      <th>sodium</th>\n",
       "    </tr>\n",
       "  </thead>\n",
       "  <tbody>\n",
       "    <tr>\n",
       "      <td>823</td>\n",
       "      <td>Z8RsBpxhnkebK5fvahVCmfV7icO2</td>\n",
       "      <td>2020-01-09 12:00:00</td>\n",
       "      <td>77.0</td>\n",
       "      <td>0.0</td>\n",
       "      <td>0.0</td>\n",
       "      <td>0.0</td>\n",
       "      <td>0.0</td>\n",
       "      <td>0.0</td>\n",
       "      <td>90.82098</td>\n",
       "      <td>0.0</td>\n",
       "      <td>0.0</td>\n",
       "      <td>0.0</td>\n",
       "      <td>0.0</td>\n",
       "      <td>0.0</td>\n",
       "      <td>0.0</td>\n",
       "    </tr>\n",
       "    <tr>\n",
       "      <td>824</td>\n",
       "      <td>Z8RsBpxhnkebK5fvahVCmfV7icO2</td>\n",
       "      <td>2020-01-09 12:15:00</td>\n",
       "      <td>75.0</td>\n",
       "      <td>49.0</td>\n",
       "      <td>0.0</td>\n",
       "      <td>0.0</td>\n",
       "      <td>0.0</td>\n",
       "      <td>0.0</td>\n",
       "      <td>90.61686</td>\n",
       "      <td>0.0</td>\n",
       "      <td>0.0</td>\n",
       "      <td>0.0</td>\n",
       "      <td>0.0</td>\n",
       "      <td>0.0</td>\n",
       "      <td>0.0</td>\n",
       "    </tr>\n",
       "    <tr>\n",
       "      <td>825</td>\n",
       "      <td>Z8RsBpxhnkebK5fvahVCmfV7icO2</td>\n",
       "      <td>2020-01-09 12:30:00</td>\n",
       "      <td>73.0</td>\n",
       "      <td>71.0</td>\n",
       "      <td>0.0</td>\n",
       "      <td>0.0</td>\n",
       "      <td>0.0</td>\n",
       "      <td>0.0</td>\n",
       "      <td>86.22828</td>\n",
       "      <td>0.0</td>\n",
       "      <td>0.0</td>\n",
       "      <td>0.0</td>\n",
       "      <td>0.0</td>\n",
       "      <td>0.0</td>\n",
       "      <td>0.0</td>\n",
       "    </tr>\n",
       "    <tr>\n",
       "      <td>826</td>\n",
       "      <td>Z8RsBpxhnkebK5fvahVCmfV7icO2</td>\n",
       "      <td>2020-01-09 12:45:00</td>\n",
       "      <td>89.0</td>\n",
       "      <td>650.0</td>\n",
       "      <td>0.0</td>\n",
       "      <td>0.0</td>\n",
       "      <td>0.0</td>\n",
       "      <td>0.0</td>\n",
       "      <td>82.04382</td>\n",
       "      <td>0.0</td>\n",
       "      <td>0.0</td>\n",
       "      <td>0.0</td>\n",
       "      <td>0.0</td>\n",
       "      <td>0.0</td>\n",
       "      <td>0.0</td>\n",
       "    </tr>\n",
       "    <tr>\n",
       "      <td>827</td>\n",
       "      <td>Z8RsBpxhnkebK5fvahVCmfV7icO2</td>\n",
       "      <td>2020-01-09 13:00:00</td>\n",
       "      <td>97.0</td>\n",
       "      <td>393.0</td>\n",
       "      <td>0.0</td>\n",
       "      <td>0.0</td>\n",
       "      <td>0.0</td>\n",
       "      <td>0.0</td>\n",
       "      <td>79.90056</td>\n",
       "      <td>0.0</td>\n",
       "      <td>0.0</td>\n",
       "      <td>0.0</td>\n",
       "      <td>0.0</td>\n",
       "      <td>0.0</td>\n",
       "      <td>0.0</td>\n",
       "    </tr>\n",
       "  </tbody>\n",
       "</table>\n",
       "</div>"
      ],
      "text/plain": [
       "                              uid                 time  valueHR  valuesteps  \\\n",
       "823  Z8RsBpxhnkebK5fvahVCmfV7icO2  2020-01-09 12:00:00     77.0         0.0   \n",
       "824  Z8RsBpxhnkebK5fvahVCmfV7icO2  2020-01-09 12:15:00     75.0        49.0   \n",
       "825  Z8RsBpxhnkebK5fvahVCmfV7icO2  2020-01-09 12:30:00     73.0        71.0   \n",
       "826  Z8RsBpxhnkebK5fvahVCmfV7icO2  2020-01-09 12:45:00     89.0       650.0   \n",
       "827  Z8RsBpxhnkebK5fvahVCmfV7icO2  2020-01-09 13:00:00     97.0       393.0   \n",
       "\n",
       "     WkHR  WkCal  WkSteps  sec  sugarValue  cal  carbs  fat  fiber  protein  \\\n",
       "823   0.0    0.0      0.0  0.0    90.82098  0.0    0.0  0.0    0.0      0.0   \n",
       "824   0.0    0.0      0.0  0.0    90.61686  0.0    0.0  0.0    0.0      0.0   \n",
       "825   0.0    0.0      0.0  0.0    86.22828  0.0    0.0  0.0    0.0      0.0   \n",
       "826   0.0    0.0      0.0  0.0    82.04382  0.0    0.0  0.0    0.0      0.0   \n",
       "827   0.0    0.0      0.0  0.0    79.90056  0.0    0.0  0.0    0.0      0.0   \n",
       "\n",
       "     sodium  \n",
       "823     0.0  \n",
       "824     0.0  \n",
       "825     0.0  \n",
       "826     0.0  \n",
       "827     0.0  "
      ]
     },
     "execution_count": 3,
     "metadata": {},
     "output_type": "execute_result"
    }
   ],
   "source": [
    "data.head()"
   ]
  },
  {
   "cell_type": "code",
   "execution_count": 4,
   "metadata": {},
   "outputs": [],
   "source": [
    "data = preprocess(data,1)"
   ]
  },
  {
   "cell_type": "markdown",
   "metadata": {},
   "source": [
    "### The final dataset will be: "
   ]
  },
  {
   "cell_type": "code",
   "execution_count": 5,
   "metadata": {},
   "outputs": [
    {
     "data": {
      "text/html": [
       "<div>\n",
       "<style scoped>\n",
       "    .dataframe tbody tr th:only-of-type {\n",
       "        vertical-align: middle;\n",
       "    }\n",
       "\n",
       "    .dataframe tbody tr th {\n",
       "        vertical-align: top;\n",
       "    }\n",
       "\n",
       "    .dataframe thead th {\n",
       "        text-align: right;\n",
       "    }\n",
       "</style>\n",
       "<table border=\"1\" class=\"dataframe\">\n",
       "  <thead>\n",
       "    <tr style=\"text-align: right;\">\n",
       "      <th></th>\n",
       "      <th>valueHR</th>\n",
       "      <th>valuesteps</th>\n",
       "      <th>WkHR</th>\n",
       "      <th>WkCal</th>\n",
       "      <th>WkSteps</th>\n",
       "      <th>sec</th>\n",
       "      <th>sugarValue</th>\n",
       "      <th>cal</th>\n",
       "      <th>carbs</th>\n",
       "      <th>fat</th>\n",
       "      <th>fiber</th>\n",
       "      <th>protein</th>\n",
       "      <th>sodium</th>\n",
       "    </tr>\n",
       "  </thead>\n",
       "  <tbody>\n",
       "    <tr>\n",
       "      <td>823</td>\n",
       "      <td>77</td>\n",
       "      <td>0</td>\n",
       "      <td>0</td>\n",
       "      <td>0</td>\n",
       "      <td>0</td>\n",
       "      <td>0</td>\n",
       "      <td>90</td>\n",
       "      <td>0</td>\n",
       "      <td>0</td>\n",
       "      <td>0</td>\n",
       "      <td>0</td>\n",
       "      <td>0</td>\n",
       "      <td>0</td>\n",
       "    </tr>\n",
       "    <tr>\n",
       "      <td>824</td>\n",
       "      <td>75</td>\n",
       "      <td>49</td>\n",
       "      <td>0</td>\n",
       "      <td>0</td>\n",
       "      <td>0</td>\n",
       "      <td>0</td>\n",
       "      <td>90</td>\n",
       "      <td>0</td>\n",
       "      <td>0</td>\n",
       "      <td>0</td>\n",
       "      <td>0</td>\n",
       "      <td>0</td>\n",
       "      <td>0</td>\n",
       "    </tr>\n",
       "    <tr>\n",
       "      <td>825</td>\n",
       "      <td>73</td>\n",
       "      <td>71</td>\n",
       "      <td>0</td>\n",
       "      <td>0</td>\n",
       "      <td>0</td>\n",
       "      <td>0</td>\n",
       "      <td>86</td>\n",
       "      <td>0</td>\n",
       "      <td>0</td>\n",
       "      <td>0</td>\n",
       "      <td>0</td>\n",
       "      <td>0</td>\n",
       "      <td>0</td>\n",
       "    </tr>\n",
       "    <tr>\n",
       "      <td>826</td>\n",
       "      <td>89</td>\n",
       "      <td>650</td>\n",
       "      <td>0</td>\n",
       "      <td>0</td>\n",
       "      <td>0</td>\n",
       "      <td>0</td>\n",
       "      <td>82</td>\n",
       "      <td>0</td>\n",
       "      <td>0</td>\n",
       "      <td>0</td>\n",
       "      <td>0</td>\n",
       "      <td>0</td>\n",
       "      <td>0</td>\n",
       "    </tr>\n",
       "    <tr>\n",
       "      <td>827</td>\n",
       "      <td>97</td>\n",
       "      <td>393</td>\n",
       "      <td>0</td>\n",
       "      <td>0</td>\n",
       "      <td>0</td>\n",
       "      <td>0</td>\n",
       "      <td>79</td>\n",
       "      <td>0</td>\n",
       "      <td>0</td>\n",
       "      <td>0</td>\n",
       "      <td>0</td>\n",
       "      <td>0</td>\n",
       "      <td>0</td>\n",
       "    </tr>\n",
       "  </tbody>\n",
       "</table>\n",
       "</div>"
      ],
      "text/plain": [
       "     valueHR  valuesteps  WkHR  WkCal  WkSteps  sec  sugarValue  cal  carbs  \\\n",
       "823       77           0     0      0        0    0          90    0      0   \n",
       "824       75          49     0      0        0    0          90    0      0   \n",
       "825       73          71     0      0        0    0          86    0      0   \n",
       "826       89         650     0      0        0    0          82    0      0   \n",
       "827       97         393     0      0        0    0          79    0      0   \n",
       "\n",
       "     fat  fiber  protein  sodium  \n",
       "823    0      0        0       0  \n",
       "824    0      0        0       0  \n",
       "825    0      0        0       0  \n",
       "826    0      0        0       0  \n",
       "827    0      0        0       0  "
      ]
     },
     "execution_count": 5,
     "metadata": {},
     "output_type": "execute_result"
    }
   ],
   "source": [
    "data.head()"
   ]
  },
  {
   "cell_type": "code",
   "execution_count": 6,
   "metadata": {},
   "outputs": [
    {
     "data": {
      "text/plain": [
       "68"
      ]
     },
     "execution_count": 6,
     "metadata": {},
     "output_type": "execute_result"
    }
   ],
   "source": [
    "len(data['sugarValue'].unique())"
   ]
  },
  {
   "cell_type": "markdown",
   "metadata": {},
   "source": [
    "### Let’s create our model. We are trying to predict a patient diabetes value. This coincides with the ‘sugarValue’ column, which will be our independent variable. We’ll use all the other columns as features for our model."
   ]
  },
  {
   "cell_type": "code",
   "execution_count": 7,
   "metadata": {},
   "outputs": [],
   "source": [
    "X = data.drop('sugarValue', axis=1)\n",
    "y = data['sugarValue']"
   ]
  },
  {
   "cell_type": "markdown",
   "metadata": {},
   "source": [
    "### We’ll use train-test-split to split the data into training data and testing data, and create a random forest model.\n"
   ]
  },
  {
   "cell_type": "markdown",
   "metadata": {},
   "source": [
    "### Create a windows, compute the predictions and calculate the MAE and RMSE for each window. Save the values in a dataset. \n"
   ]
  },
  {
   "cell_type": "code",
   "execution_count": 8,
   "metadata": {},
   "outputs": [
    {
     "name": "stdout",
     "output_type": "stream",
     "text": [
      "--- 144.65026807785034 Seconds for computation ---\n"
     ]
    }
   ],
   "source": [
    "window = prediction(data,3,1, X, y)\n"
   ]
  },
  {
   "cell_type": "code",
   "execution_count": null,
   "metadata": {},
   "outputs": [],
   "source": []
  },
  {
   "cell_type": "code",
   "execution_count": null,
   "metadata": {},
   "outputs": [],
   "source": []
  },
  {
   "cell_type": "markdown",
   "metadata": {},
   "source": [
    "### The dataset will show :\n",
    "\n",
    "#### - Current train (the current window values) \n",
    "#### - Current test (the predicted values)\n",
    "#### - RMSE (root mean square error)\n",
    "#### - Predictive horizons (PHs) for each window."
   ]
  },
  {
   "cell_type": "code",
   "execution_count": 9,
   "metadata": {},
   "outputs": [
    {
     "data": {
      "text/html": [
       "<div>\n",
       "<style scoped>\n",
       "    .dataframe tbody tr th:only-of-type {\n",
       "        vertical-align: middle;\n",
       "    }\n",
       "\n",
       "    .dataframe tbody tr th {\n",
       "        vertical-align: top;\n",
       "    }\n",
       "\n",
       "    .dataframe thead th {\n",
       "        text-align: right;\n",
       "    }\n",
       "</style>\n",
       "<table border=\"1\" class=\"dataframe\">\n",
       "  <thead>\n",
       "    <tr style=\"text-align: right;\">\n",
       "      <th></th>\n",
       "      <th>Current train</th>\n",
       "      <th>Current test</th>\n",
       "      <th>MSE</th>\n",
       "      <th>RMSE</th>\n",
       "      <th>Interval</th>\n",
       "    </tr>\n",
       "  </thead>\n",
       "  <tbody>\n",
       "    <tr>\n",
       "      <td>0</td>\n",
       "      <td>From: 823 to: 838</td>\n",
       "      <td>From: 839 to: 839</td>\n",
       "      <td>0.054385</td>\n",
       "      <td>0.233207</td>\n",
       "      <td>15Min 3PSW</td>\n",
       "    </tr>\n",
       "    <tr>\n",
       "      <td>1</td>\n",
       "      <td>From: 824 to: 839</td>\n",
       "      <td>From: 840 to: 840</td>\n",
       "      <td>50.410000</td>\n",
       "      <td>7.100000</td>\n",
       "      <td>15Min 3PSW</td>\n",
       "    </tr>\n",
       "    <tr>\n",
       "      <td>2</td>\n",
       "      <td>From: 825 to: 840</td>\n",
       "      <td>From: 841 to: 841</td>\n",
       "      <td>102.013746</td>\n",
       "      <td>10.100185</td>\n",
       "      <td>15Min 3PSW</td>\n",
       "    </tr>\n",
       "    <tr>\n",
       "      <td>3</td>\n",
       "      <td>From: 826 to: 841</td>\n",
       "      <td>From: 842 to: 842</td>\n",
       "      <td>87.455629</td>\n",
       "      <td>9.351771</td>\n",
       "      <td>15Min 3PSW</td>\n",
       "    </tr>\n",
       "    <tr>\n",
       "      <td>4</td>\n",
       "      <td>From: 827 to: 842</td>\n",
       "      <td>From: 843 to: 843</td>\n",
       "      <td>61.499807</td>\n",
       "      <td>7.842181</td>\n",
       "      <td>15Min 3PSW</td>\n",
       "    </tr>\n",
       "    <tr>\n",
       "      <td>...</td>\n",
       "      <td>...</td>\n",
       "      <td>...</td>\n",
       "      <td>...</td>\n",
       "      <td>...</td>\n",
       "      <td>...</td>\n",
       "    </tr>\n",
       "    <tr>\n",
       "      <td>22809</td>\n",
       "      <td>From: 1946 to: 2090</td>\n",
       "      <td>From: 2091 to: 2094</td>\n",
       "      <td>19.871423</td>\n",
       "      <td>4.457737</td>\n",
       "      <td>60Min 36PSW</td>\n",
       "    </tr>\n",
       "    <tr>\n",
       "      <td>22810</td>\n",
       "      <td>From: 1947 to: 2091</td>\n",
       "      <td>From: 2092 to: 2095</td>\n",
       "      <td>19.706140</td>\n",
       "      <td>4.439160</td>\n",
       "      <td>60Min 36PSW</td>\n",
       "    </tr>\n",
       "    <tr>\n",
       "      <td>22811</td>\n",
       "      <td>From: 1948 to: 2092</td>\n",
       "      <td>From: 2093 to: 2096</td>\n",
       "      <td>20.608542</td>\n",
       "      <td>4.539663</td>\n",
       "      <td>60Min 36PSW</td>\n",
       "    </tr>\n",
       "    <tr>\n",
       "      <td>22812</td>\n",
       "      <td>From: 1949 to: 2093</td>\n",
       "      <td>From: 2094 to: 2097</td>\n",
       "      <td>8.615062</td>\n",
       "      <td>2.935143</td>\n",
       "      <td>60Min 36PSW</td>\n",
       "    </tr>\n",
       "    <tr>\n",
       "      <td>22813</td>\n",
       "      <td>From: 1950 to: 2094</td>\n",
       "      <td>From: 2095 to: 2098</td>\n",
       "      <td>4.965747</td>\n",
       "      <td>2.228396</td>\n",
       "      <td>60Min 36PSW</td>\n",
       "    </tr>\n",
       "  </tbody>\n",
       "</table>\n",
       "<p>22814 rows × 5 columns</p>\n",
       "</div>"
      ],
      "text/plain": [
       "             Current train         Current test         MSE       RMSE  \\\n",
       "0        From: 823 to: 838    From: 839 to: 839    0.054385   0.233207   \n",
       "1        From: 824 to: 839    From: 840 to: 840   50.410000   7.100000   \n",
       "2        From: 825 to: 840    From: 841 to: 841  102.013746  10.100185   \n",
       "3        From: 826 to: 841    From: 842 to: 842   87.455629   9.351771   \n",
       "4        From: 827 to: 842    From: 843 to: 843   61.499807   7.842181   \n",
       "...                    ...                  ...         ...        ...   \n",
       "22809  From: 1946 to: 2090  From: 2091 to: 2094   19.871423   4.457737   \n",
       "22810  From: 1947 to: 2091  From: 2092 to: 2095   19.706140   4.439160   \n",
       "22811  From: 1948 to: 2092  From: 2093 to: 2096   20.608542   4.539663   \n",
       "22812  From: 1949 to: 2093  From: 2094 to: 2097    8.615062   2.935143   \n",
       "22813  From: 1950 to: 2094  From: 2095 to: 2098    4.965747   2.228396   \n",
       "\n",
       "          Interval  \n",
       "0       15Min 3PSW  \n",
       "1       15Min 3PSW  \n",
       "2       15Min 3PSW  \n",
       "3       15Min 3PSW  \n",
       "4       15Min 3PSW  \n",
       "...            ...  \n",
       "22809  60Min 36PSW  \n",
       "22810  60Min 36PSW  \n",
       "22811  60Min 36PSW  \n",
       "22812  60Min 36PSW  \n",
       "22813  60Min 36PSW  \n",
       "\n",
       "[22814 rows x 5 columns]"
      ]
     },
     "execution_count": 9,
     "metadata": {},
     "output_type": "execute_result"
    }
   ],
   "source": [
    "window"
   ]
  },
  {
   "cell_type": "code",
   "execution_count": 10,
   "metadata": {},
   "outputs": [
    {
     "data": {
      "image/png": "[encoded data removed]",
      "text/plain": [
       "<Figure size 2160x720 with 1 Axes>"
      ]
     },
     "metadata": {
      "needs_background": "light"
     },
     "output_type": "display_data"
    }
   ],
   "source": [
    "boxplot(window, \"SVM\",3,36)"
   ]
  },
  {
   "cell_type": "markdown",
   "metadata": {},
   "source": [
    "\n"
   ]
  },
  {
   "cell_type": "markdown",
   "metadata": {},
   "source": [
    "## Let s try to increment the window from 36 hours max, to 72 hours max and increse the PH from 60min until 3 hours  "
   ]
  },
  {
   "cell_type": "code",
   "execution_count": 11,
   "metadata": {},
   "outputs": [
    {
     "name": "stdout",
     "output_type": "stream",
     "text": [
      "--- 537.2739615440369 Seconds for computation ---\n"
     ]
    }
   ],
   "source": [
    "windowLong = prediction(data,3,2, X, y)\n"
   ]
  },
  {
   "cell_type": "code",
   "execution_count": 12,
   "metadata": {},
   "outputs": [
    {
     "data": {
      "text/html": [
       "<div>\n",
       "<style scoped>\n",
       "    .dataframe tbody tr th:only-of-type {\n",
       "        vertical-align: middle;\n",
       "    }\n",
       "\n",
       "    .dataframe tbody tr th {\n",
       "        vertical-align: top;\n",
       "    }\n",
       "\n",
       "    .dataframe thead th {\n",
       "        text-align: right;\n",
       "    }\n",
       "</style>\n",
       "<table border=\"1\" class=\"dataframe\">\n",
       "  <thead>\n",
       "    <tr style=\"text-align: right;\">\n",
       "      <th></th>\n",
       "      <th>Current train</th>\n",
       "      <th>Current test</th>\n",
       "      <th>MSE</th>\n",
       "      <th>RMSE</th>\n",
       "      <th>Interval</th>\n",
       "    </tr>\n",
       "  </thead>\n",
       "  <tbody>\n",
       "    <tr>\n",
       "      <td>0</td>\n",
       "      <td>From: 823 to: 1032</td>\n",
       "      <td>From: 1033 to: 1033</td>\n",
       "      <td>14.713777</td>\n",
       "      <td>3.835854</td>\n",
       "      <td>15Min 48PSW</td>\n",
       "    </tr>\n",
       "    <tr>\n",
       "      <td>1</td>\n",
       "      <td>From: 824 to: 1033</td>\n",
       "      <td>From: 1034 to: 1034</td>\n",
       "      <td>142.090839</td>\n",
       "      <td>11.920186</td>\n",
       "      <td>15Min 48PSW</td>\n",
       "    </tr>\n",
       "    <tr>\n",
       "      <td>2</td>\n",
       "      <td>From: 825 to: 1034</td>\n",
       "      <td>From: 1035 to: 1035</td>\n",
       "      <td>78.545492</td>\n",
       "      <td>8.862589</td>\n",
       "      <td>15Min 48PSW</td>\n",
       "    </tr>\n",
       "    <tr>\n",
       "      <td>3</td>\n",
       "      <td>From: 826 to: 1035</td>\n",
       "      <td>From: 1036 to: 1036</td>\n",
       "      <td>161.253404</td>\n",
       "      <td>12.698559</td>\n",
       "      <td>15Min 48PSW</td>\n",
       "    </tr>\n",
       "    <tr>\n",
       "      <td>4</td>\n",
       "      <td>From: 827 to: 1036</td>\n",
       "      <td>From: 1038 to: 1038</td>\n",
       "      <td>51.953013</td>\n",
       "      <td>7.207844</td>\n",
       "      <td>15Min 48PSW</td>\n",
       "    </tr>\n",
       "    <tr>\n",
       "      <td>...</td>\n",
       "      <td>...</td>\n",
       "      <td>...</td>\n",
       "      <td>...</td>\n",
       "      <td>...</td>\n",
       "      <td>...</td>\n",
       "    </tr>\n",
       "    <tr>\n",
       "      <td>34609</td>\n",
       "      <td>From: 1793 to: 2082</td>\n",
       "      <td>From: 2083 to: 2094</td>\n",
       "      <td>58.484518</td>\n",
       "      <td>7.647517</td>\n",
       "      <td>180Min 72PSW</td>\n",
       "    </tr>\n",
       "    <tr>\n",
       "      <td>34610</td>\n",
       "      <td>From: 1794 to: 2083</td>\n",
       "      <td>From: 2084 to: 2095</td>\n",
       "      <td>59.128411</td>\n",
       "      <td>7.689500</td>\n",
       "      <td>180Min 72PSW</td>\n",
       "    </tr>\n",
       "    <tr>\n",
       "      <td>34611</td>\n",
       "      <td>From: 1795 to: 2084</td>\n",
       "      <td>From: 2085 to: 2096</td>\n",
       "      <td>58.864106</td>\n",
       "      <td>7.672295</td>\n",
       "      <td>180Min 72PSW</td>\n",
       "    </tr>\n",
       "    <tr>\n",
       "      <td>34612</td>\n",
       "      <td>From: 1796 to: 2085</td>\n",
       "      <td>From: 2086 to: 2097</td>\n",
       "      <td>57.383013</td>\n",
       "      <td>7.575158</td>\n",
       "      <td>180Min 72PSW</td>\n",
       "    </tr>\n",
       "    <tr>\n",
       "      <td>34613</td>\n",
       "      <td>From: 1797 to: 2086</td>\n",
       "      <td>From: 2087 to: 2098</td>\n",
       "      <td>54.047934</td>\n",
       "      <td>7.351730</td>\n",
       "      <td>180Min 72PSW</td>\n",
       "    </tr>\n",
       "  </tbody>\n",
       "</table>\n",
       "<p>34614 rows × 5 columns</p>\n",
       "</div>"
      ],
      "text/plain": [
       "             Current train         Current test         MSE       RMSE  \\\n",
       "0       From: 823 to: 1032  From: 1033 to: 1033   14.713777   3.835854   \n",
       "1       From: 824 to: 1033  From: 1034 to: 1034  142.090839  11.920186   \n",
       "2       From: 825 to: 1034  From: 1035 to: 1035   78.545492   8.862589   \n",
       "3       From: 826 to: 1035  From: 1036 to: 1036  161.253404  12.698559   \n",
       "4       From: 827 to: 1036  From: 1038 to: 1038   51.953013   7.207844   \n",
       "...                    ...                  ...         ...        ...   \n",
       "34609  From: 1793 to: 2082  From: 2083 to: 2094   58.484518   7.647517   \n",
       "34610  From: 1794 to: 2083  From: 2084 to: 2095   59.128411   7.689500   \n",
       "34611  From: 1795 to: 2084  From: 2085 to: 2096   58.864106   7.672295   \n",
       "34612  From: 1796 to: 2085  From: 2086 to: 2097   57.383013   7.575158   \n",
       "34613  From: 1797 to: 2086  From: 2087 to: 2098   54.047934   7.351730   \n",
       "\n",
       "           Interval  \n",
       "0       15Min 48PSW  \n",
       "1       15Min 48PSW  \n",
       "2       15Min 48PSW  \n",
       "3       15Min 48PSW  \n",
       "4       15Min 48PSW  \n",
       "...             ...  \n",
       "34609  180Min 72PSW  \n",
       "34610  180Min 72PSW  \n",
       "34611  180Min 72PSW  \n",
       "34612  180Min 72PSW  \n",
       "34613  180Min 72PSW  \n",
       "\n",
       "[34614 rows x 5 columns]"
      ]
     },
     "execution_count": 12,
     "metadata": {},
     "output_type": "execute_result"
    }
   ],
   "source": [
    "windowLong"
   ]
  },
  {
   "cell_type": "markdown",
   "metadata": {},
   "source": [
    "## Plot the RMSE in a box plot"
   ]
  },
  {
   "cell_type": "code",
   "execution_count": 13,
   "metadata": {},
   "outputs": [
    {
     "data": {
      "image/png": "[encoded data removed]",
      "text/plain": [
       "<Figure size 2160x720 with 1 Axes>"
      ]
     },
     "metadata": {
      "needs_background": "light"
     },
     "output_type": "display_data"
    }
   ],
   "source": [
    "boxplot(windowLong, \"SVM\",48,72)"
   ]
  },
  {
   "cell_type": "code",
   "execution_count": null,
   "metadata": {},
   "outputs": [],
   "source": []
  }
 ],
 "metadata": {
  "kernelspec": {
   "display_name": "Python 3",
   "language": "python",
   "name": "python3"
  },
  "language_info": {
   "codemirror_mode": {
    "name": "ipython",
    "version": 3
   },
   "file_extension": ".py",
   "mimetype": "text/x-python",
   "name": "python",
   "nbconvert_exporter": "python",
   "pygments_lexer": "ipython3",
   "version": "3.7.4"
  }
 },
 "nbformat": 4,
 "nbformat_minor": 2
}
